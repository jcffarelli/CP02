{
 "cells": [
  {
   "cell_type": "markdown",
   "id": "c6af2489",
   "metadata": {},
   "source": [
    "<H3 align = \"right\">Fall 2024 Computer Project 02</H3>\n",
    "\n",
    "List of all names in the group\n",
    "- Joseph Ciffarelli\n",
    "- Gabriella Croasdaile\n",
    "- Richard Young\n",
    "\n",
    "<center>Be sure to erase the \"YOUR CODE HERE\" place holders and insert your code. Each problem is worth 4 points</center>"
   ]
  },
  {
   "cell_type": "code",
   "execution_count": 2,
   "id": "45de8972",
   "metadata": {
    "is_executing": true
   },
   "outputs": [],
   "source": [
    "#################################################\n",
    "## All Packages Needed for Computer Project 02 ##\n",
    "#################################################\n",
    "\n",
    "import math \n",
    "from turtle import * "
   ]
  },
  {
   "cell_type": "markdown",
   "id": "47d528e4",
   "metadata": {},
   "source": [
    "# Question 1\n",
    "\n",
    "Below is a code to create a single box with a side length. Using the square function as a template, write a function called polygon that takes an integer greater than 3 and a positive float and makes the turtle draw a polygon with the integer's number of sides each with length from the float. "
   ]
  },
  {
   "cell_type": "code",
   "execution_count": 4,
   "id": "a36998af",
   "metadata": {},
   "outputs": [],
   "source": [
    "shape('turtle')              ## Classic\n",
    "title(\"My Turtle Program\")   ## Title bar\n",
    "\n",
    "def square(side_length):\n",
    "    for i in range(4):\n",
    "        forward(side_length)\n",
    "        right(90)\n",
    "\n",
    "\n",
    "## Draws the square with 50 units\n",
    "#square(50) #comment this out when done playing with it.\n",
    "\n",
    "######### CODE HERE #######################\n",
    "def polygon(number_sides, side_length):\n",
    "    for i in range(number_sides):\n",
    "        forward(side_length)\n",
    "        right(360 / number_sides)\n",
    "\n",
    "polygon(8, 50)\n",
    "\n",
    "# To keep the window open until you click on it\n",
    "exitonclick()"
   ]
  },
  {
   "cell_type": "markdown",
   "id": "a52fc536",
   "metadata": {},
   "source": [
    "---\n",
    "# Question 2\n",
    "\n",
    "Write a Python class **my_quadratic** that performs various operations related to quadratic equation by using the following methods:\n",
    "\n",
    "- **\\_\\_init\\_\\_(self, a2, a1, a0)**: The constructor method should take the coefficients a2, a1, and a0 as inputs and store them as instance variables.\n",
    "- **eval(self, x)**: This method will take a numerical value \n",
    "x as an input and return the value of the quadratic equation evaluated at that point. This means it will compute and return the value of \n",
    "$$a_2x^2 + a_1x+a_0$$\n",
    "\n",
    "- **diff(self, x)**: This method will compute the derivative of the quadratic euqation and evaluate it at a point $x$. The derivative of a quadradric is $$2a_2 x + a_1$$\n",
    "\n",
    "- **int(self, a, b)**: Implement a method that calculates the definite integral of the quadratic equation from $a$ to $b$. \n",
    "$$\\int_a^b \\left( a_2x^2 + a_1x + a_0 \\right) \\,dx$$\n",
    "Find the general formula and use that in the method.\n",
    "\n",
    "- **vertex(self)**: Returns the vertex of the quadratic as a tuple $(h,k)$ where $h = \\dfrac{-a_1}{2a_2}$ and $k$ is the value of polynomial at $h$. Return None if $a_2$ is zero. \n",
    "\n",
    "- **\\_\\_str\\_\\_(self)**: This method will return a string representation of the quadratic equation in the form \"a2x^2 + a1x + a_0\". Ensure that the method handles various edge cases like a coefficient of 1 (so it doesn't display \"1x^2\" but rather \"x^2\" and 0 does not does not display the term)."
   ]
  },
  {
   "cell_type": "code",
   "execution_count": 6,
   "id": "18f908aa",
   "metadata": {},
   "outputs": [],
   "source": [
    "#### Code here\n",
    "class my_quadratic():\n",
    "    def __init__(self, a2, a1, a0):\n",
    "        self.a2 = a2\n",
    "        self.a1 = a1\n",
    "        self.a0 = a0\n",
    "\n",
    "    def eval(self, x):\n",
    "        return (self.a2 * (x ** 2) + self.a1 * x + self.a0)\n",
    "\n",
    "    def diff(self, x):\n",
    "        return (2 * self.a2 * x + self.a1)\n",
    "\n",
    "    def int(self, a, b):\n",
    "        return (((1/3) * self.a2 * (b ** 3) + (1/2) * self.a1 * (b ** 2) + self.a0 * b) - ((1/3) * self.a2 * (a ** 3) + (1/2) * self.a1 * (a ** 2) + self.a0 * a))\n",
    "\n",
    "    def vertex(self):\n",
    "        if(self.a2 != 0):\n",
    "            temp = my_quadratic(self.a2, self.a1, self.a0)\n",
    "            h = (-1 * self.a1) / (2 * self.a2)\n",
    "            k = temp.eval(h)\n",
    "            return (h, k)\n",
    "\n",
    "    def __str__(self):\n",
    "        list = [self.a2, self.a1, self.a0]\n",
    "        ans = [\"x^2\", \"x\", \"\"]\n",
    "        result = \"\"\n",
    "        for num in range(len(list)):\n",
    "            if(list[num] == 0):\n",
    "                ans[num] = \"\"\n",
    "            elif(list[num] != 1):\n",
    "                ans[num] = str(list[num]) + ans[num]\n",
    "                \n",
    "        if(list[2] == 1):\n",
    "            ans[2] = \"1\"\n",
    "            \n",
    "        for word in ans:\n",
    "            if(word != \"\"):\n",
    "                if(result == \"\"):\n",
    "                    result = word\n",
    "                else:\n",
    "                    if(word[0] == '-'):\n",
    "                        result += \" - \" + word[1:]\n",
    "                    else:\n",
    "                        result += \" + \" + word\n",
    "\n",
    "        if(result == \"\"):\n",
    "            return str(0)\n",
    "        return result\n",
    "        \n",
    "        "
   ]
  },
  {
   "cell_type": "code",
   "execution_count": 8,
   "id": "f7147fbc",
   "metadata": {},
   "outputs": [
    {
     "name": "stdout",
     "output_type": "stream",
     "text": [
      "15\n",
      "7\n",
      "13.499999999999998\n",
      "(-0.75, -0.125)\n",
      "2x^2 + 3x + 1\n"
     ]
    }
   ],
   "source": [
    "q = my_quadratic(2, 3, 1)\n",
    "print(q.eval(2))    # output: 15\n",
    "print(q.diff(1))    # output: 7\n",
    "print(q.int(-1, 2)) # output: 13.5\n",
    "print(q.vertex())   # output: (-0.75, -0.125)\n",
    "print(q)            # output: \"2x^2 + 3x + 1\"\n"
   ]
  },
  {
   "cell_type": "markdown",
   "id": "dbc3659d",
   "metadata": {},
   "source": [
    "---\n",
    "# Question 3\n",
    "\n",
    "Consider a triangle with vertices at (0,0), (1,0), and (0,1). Write a function **my_inside_triangle(x,y)** where the output is the string ‘outside’ if the point $(x,y)$ is outside of the triangle, ‘border’ if the point is exactly on the border of the triangle, and ‘inside’ if the point is on the inside of the triangle."
   ]
  },
  {
   "cell_type": "code",
   "execution_count": 12,
   "id": "09dc2a1c",
   "metadata": {},
   "outputs": [],
   "source": [
    "def my_inside_triangle(x,y):\n",
    "    # write your function code here\n",
    "    if(x < 0 or y < 0 or ((x + y) > 1)):\n",
    "        return \"outside\"\n",
    "    elif((x + y) == 1):\n",
    "        return \"border\"\n",
    "    else:\n",
    "        return \"inside\""
   ]
  },
  {
   "cell_type": "code",
   "execution_count": 14,
   "id": "a6fe688b",
   "metadata": {},
   "outputs": [
    {
     "data": {
      "text/plain": [
       "'border'"
      ]
     },
     "execution_count": 14,
     "metadata": {},
     "output_type": "execute_result"
    }
   ],
   "source": [
    "# Output: 'border'\n",
    "my_inside_triangle(.5,.5)"
   ]
  },
  {
   "cell_type": "code",
   "execution_count": 16,
   "id": "430ec295",
   "metadata": {},
   "outputs": [
    {
     "data": {
      "text/plain": [
       "'inside'"
      ]
     },
     "execution_count": 16,
     "metadata": {},
     "output_type": "execute_result"
    }
   ],
   "source": [
    "# Output: 'inside'\n",
    "my_inside_triangle(.25,.25)"
   ]
  },
  {
   "cell_type": "code",
   "execution_count": 18,
   "id": "8e23e2b2",
   "metadata": {},
   "outputs": [
    {
     "data": {
      "text/plain": [
       "'outside'"
      ]
     },
     "execution_count": 18,
     "metadata": {},
     "output_type": "execute_result"
    }
   ],
   "source": [
    "# Output: 'outside'\n",
    "my_inside_triangle(5,5)"
   ]
  },
  {
   "attachments": {
    "image.png": {
     "image/png": "[encoded data removed]"
    }
   },
   "cell_type": "markdown",
   "id": "33c114b6",
   "metadata": {},
   "source": [
    "---\n",
    "# Question 4\n",
    "\n",
    "Pascal’s triangle is an arrangement of numbers such that each row is equivalent to the coefficients of the binomial expansion of $(x+y)^{(p−1)}$, where $p$ is some positive integer more than or equal to 1. For example, $$(x+y)^2=1x^2+2xy+1y^2$$ so the third row of Pascal’s triangle is 1 2 1.\n",
    "\n",
    "Let $R_m$ represent the m-th row of Pascal’s triangle, and $R_m(n)$ be the n-th element of the row. By definition, $R_m$ has m elements, and $R_m(1)=R_m(n)=1$. The remaining elements are computed by the following recursive relationship: $Rm(i)=R_{m−1}(i−1)+R_{m−1}(i)$ for $i=2,\\dots,m−1$. The first few rows of Pascal’s triangle are depicted in the following figure. You may assume that m is a strictly positive integer. The output variable, row, must be a list.\n",
    "\n",
    "<div>\n",
    "<img src = \"attachment:image.png\" width = \"200\"/>\n",
    "</div>\n",
    "\n",
    "Write a function with **my_pascal_row(m)** where output variable row is the m-th row of the Pascal triangle. You may assume that m is a strictly positive integer. Your function **MUST** use recursion. "
   ]
  },
  {
   "cell_type": "code",
   "execution_count": 24,
   "id": "e0feabae",
   "metadata": {},
   "outputs": [],
   "source": [
    "def my_pascal_row(m):\n",
    "    # Write your own function code here\n",
    "    if(m == 1):\n",
    "        return [1]\n",
    "    elif(m == 2):\n",
    "        return [1, 1]\n",
    "    else:\n",
    "        return [1] + [my_pascal_row(m - 1)[n - 1] + my_pascal_row(m - 1)[n] for n in range(1, m - 1)] + [1]\n",
    "            \n",
    "    \n",
    "    return row"
   ]
  },
  {
   "cell_type": "code",
   "execution_count": 26,
   "id": "8bb6aed8",
   "metadata": {},
   "outputs": [
    {
     "data": {
      "text/plain": [
       "[1]"
      ]
     },
     "execution_count": 26,
     "metadata": {},
     "output_type": "execute_result"
    }
   ],
   "source": [
    "# Output: [1]\n",
    "my_pascal_row(1)"
   ]
  },
  {
   "cell_type": "code",
   "execution_count": 28,
   "id": "ba578164",
   "metadata": {},
   "outputs": [
    {
     "data": {
      "text/plain": [
       "[1, 1]"
      ]
     },
     "execution_count": 28,
     "metadata": {},
     "output_type": "execute_result"
    }
   ],
   "source": [
    "# Output: [1, 1]\n",
    "my_pascal_row(2)"
   ]
  },
  {
   "cell_type": "code",
   "execution_count": 30,
   "id": "23e3824d",
   "metadata": {},
   "outputs": [
    {
     "data": {
      "text/plain": [
       "[1, 2, 1]"
      ]
     },
     "execution_count": 30,
     "metadata": {},
     "output_type": "execute_result"
    }
   ],
   "source": [
    "# Output: [1, 2, 1]\n",
    "my_pascal_row(3)"
   ]
  },
  {
   "cell_type": "code",
   "execution_count": 32,
   "id": "a1e7d9ed",
   "metadata": {},
   "outputs": [
    {
     "data": {
      "text/plain": [
       "[1, 6, 15, 20, 15, 6, 1]"
      ]
     },
     "execution_count": 32,
     "metadata": {},
     "output_type": "execute_result"
    }
   ],
   "source": [
    "# Output: [1, 3, 3, 1]\n",
    "my_pascal_row(7)"
   ]
  },
  {
   "cell_type": "markdown",
   "id": "7778efcc",
   "metadata": {},
   "source": [
    "---\n",
    "# Question 5\n",
    "\n",
    "Write a Python class **BankAccount** to represent a simple bank account that has a balance. The class should have the following methods:\n",
    "\n",
    "- **\\_\\_init\\_\\_(self, balance=0.0):** This is the constructor method. It is called when an instance of the BankAccount class is created. It takes an optional argument balance with a default value of 0.0, which is the starting balance of the account. The constructor sets the balance attribute of the instance to the given value.\n",
    "\n",
    "- **deposit(self, amount):** This method increases the balance of the account by the given amount. It takes one argument amount, which is the amount to be deposited. The method adds the amount to the balance attribute of the instance.\n",
    "\n",
    "- **withdraw(self, amount):** This method decreases the balance of the account by the given amount, but only if there are sufficient funds. It takes one argument amount, which is the amount to be withdrawn. The method checks if the amount is greater than the current balance. If it is, the method returns the string \"Insufficient funds\". If there are sufficient funds, the method subtracts the amount from the balance attribute of the instance.\n",
    "\n",
    "- **check_balance(self):** This method returns the current balance of the account. It takes no arguments and simply returns the value of the balance attribute of the instance.\n",
    "\n",
    "- **add_interest(self):** This method calculates the interest earned on the account balance and adds it to the balance. The method first calculates the interest by multiplying the balance by the interest_rate class variable. Then it adds the interest to the balance attribute of the instance.\n",
    "\n",
    "- **\\_\\_str\\_\\_(self):** This method returns a string representation of the account. It takes no arguments and returns a string in the form \"Your balance is $X.XX\", where X.XX is the current balance of the account, formatted to two decimal places. The \\_\\_str\\_\\_ method is called when the string representation of the instance is requested. Must return a *string*. \n",
    "    \n",
    "    \n",
    "In addition, the class should have a class variable interest_rate that stores the interest rate for all accounts, and a \\_\\_str\\_\\_ method that returns a string representation of the account, such as \"Your balance is $100.43\"\n",
    "\n",
    "The interest_rate is a class variable, meaning that it is shared by all instances of the BankAccount class. It is used to calculate the interest earned on the account balance.\n",
    "\n",
    "For example, if the interest_rate is set to 0.05, this means that the account will earn 5% interest per year. To calculate the interest earned, you can multiply the balance by the interest rate.\n",
    "\n",
    "\n",
    "How would you write the code to define this class in Python?"
   ]
  },
  {
   "cell_type": "code",
   "execution_count": 34,
   "id": "20f4b87c",
   "metadata": {},
   "outputs": [],
   "source": [
    "class BankAccount():\n",
    "    def __init__(self, balance=0.0):\n",
    "        self.balance = balance\n",
    "        self.intrest_rate = 0.05\n",
    "\n",
    "    def deposit(self, amount):\n",
    "        self.balance += amount\n",
    "\n",
    "    def withdraw(self, amount):\n",
    "        if(amount > self.balance):\n",
    "            return \"Insufficient funds.\"\n",
    "        self.balance -= amount\n",
    "\n",
    "    def check_balance(self):\n",
    "        return round(self.balance, 2)\n",
    "\n",
    "    def add_intrest(self):\n",
    "        self.balance += self.balance * self.intrest_rate\n",
    "\n",
    "    def __str__(self):\n",
    "        return f\"Your balance is ${format(self.balance, '.2f')}\"\n",
    "\n"
   ]
  },
  {
   "cell_type": "code",
   "execution_count": 38,
   "id": "0979b56b-e32c-4295-86c5-3956f644ec63",
   "metadata": {},
   "outputs": [
    {
     "name": "stdout",
     "output_type": "stream",
     "text": [
      "Your balance is $115.00\n",
      "Your balance is $95.00\n",
      "95.0\n",
      "Your balance is $99.75\n"
     ]
    }
   ],
   "source": [
    "acc = BankAccount(100.00)\n",
    "acc.deposit(15)\n",
    "print(acc)\n",
    "acc.withdraw(20)\n",
    "print(acc)\n",
    "acc.withdraw(15200)\n",
    "print(acc.check_balance())\n",
    "acc.add_intrest()\n",
    "print(acc)"
   ]
  },
  {
   "cell_type": "code",
   "execution_count": null,
   "id": "3f10dfa7-4afd-45c9-a15e-32d2d2cfa968",
   "metadata": {},
   "outputs": [],
   "source": []
  }
 ],
 "metadata": {
  "kernelspec": {
   "display_name": "Python 3 (ipykernel)",
   "language": "python",
   "name": "python3"
  },
  "language_info": {
   "codemirror_mode": {
    "name": "ipython",
    "version": 3
   },
   "file_extension": ".py",
   "mimetype": "text/x-python",
   "name": "python",
   "nbconvert_exporter": "python",
   "pygments_lexer": "ipython3",
   "version": "3.12.4"
  }
 },
 "nbformat": 4,
 "nbformat_minor": 5
}
